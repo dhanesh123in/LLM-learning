{
 "cells": [
  {
   "cell_type": "code",
   "execution_count": 4,
   "id": "7818231f-78a8-481a-a107-33f6ef50f8c7",
   "metadata": {},
   "outputs": [
    {
     "name": "stderr",
     "output_type": "stream",
     "text": [
      "Some weights of the model checkpoint at bert-base-uncased were not used when initializing BertForMaskedLM: ['bert.pooler.dense.bias', 'bert.pooler.dense.weight', 'cls.seq_relationship.bias', 'cls.seq_relationship.weight']\n",
      "- This IS expected if you are initializing BertForMaskedLM from the checkpoint of a model trained on another task or with another architecture (e.g. initializing a BertForSequenceClassification model from a BertForPreTraining model).\n",
      "- This IS NOT expected if you are initializing BertForMaskedLM from the checkpoint of a model that you expect to be exactly identical (initializing a BertForSequenceClassification model from a BertForSequenceClassification model).\n"
     ]
    },
    {
     "data": {
      "text/plain": [
       "[{'score': 0.6439195275306702,\n",
       "  'token': 12313,\n",
       "  'token_str': 'spiral',\n",
       "  'sequence': 'the milky way is a spiral galaxy.'},\n",
       " {'score': 0.0943644717335701,\n",
       "  'token': 11229,\n",
       "  'token_str': 'dwarf',\n",
       "  'sequence': 'the milky way is a dwarf galaxy.'},\n",
       " {'score': 0.027755433693528175,\n",
       "  'token': 5871,\n",
       "  'token_str': 'satellite',\n",
       "  'sequence': 'the milky way is a satellite galaxy.'}]"
      ]
     },
     "execution_count": 4,
     "metadata": {},
     "output_type": "execute_result"
    }
   ],
   "source": [
    "text = \"The Milky Way is a [MASK] galaxy.\"\n",
    "\n",
    "from transformers import pipeline\n",
    "\n",
    "mask_filler = pipeline(\"fill-mask\", 'bert-base-uncased')\n",
    "mask_filler(text, top_k=3)"
   ]
  },
  {
   "cell_type": "code",
   "execution_count": null,
   "id": "01627623-f62e-49d2-9de5-e0292d09d79d",
   "metadata": {},
   "outputs": [],
   "source": []
  }
 ],
 "metadata": {
  "kernelspec": {
   "display_name": "Python 3 (ipykernel)",
   "language": "python",
   "name": "python3"
  },
  "language_info": {
   "codemirror_mode": {
    "name": "ipython",
    "version": 3
   },
   "file_extension": ".py",
   "mimetype": "text/x-python",
   "name": "python",
   "nbconvert_exporter": "python",
   "pygments_lexer": "ipython3",
   "version": "3.10.12"
  }
 },
 "nbformat": 4,
 "nbformat_minor": 5
}
